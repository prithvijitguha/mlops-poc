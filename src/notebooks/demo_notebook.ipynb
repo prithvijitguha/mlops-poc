{
 "cells": [
  {
   "cell_type": "code",
   "execution_count": 1,
   "metadata": {},
   "outputs": [
    {
     "name": "stderr",
     "output_type": "stream",
     "text": [
      "ERROR: Invalid requirement: '#'\n",
      "\n",
      "[notice] A new release of pip is available: 23.2.1 -> 24.0\n",
      "[notice] To update, run: python.exe -m pip install --upgrade pip\n"
     ]
    },
    {
     "name": "stdout",
     "output_type": "stream",
     "text": [
      "Package                       Version\n",
      "----------------------------- ------------\n",
      "alabaster                     0.7.16\n",
      "altair                        5.2.0\n",
      "annotated-types               0.6.0\n",
      "anyio                         4.3.0\n",
      "asttokens                     2.4.0\n",
      "attrs                         23.2.0\n",
      "Babel                         2.14.0\n",
      "backcall                      0.2.0\n",
      "black                         24.3.0\n",
      "blinker                       1.7.0\n",
      "cachetools                    5.3.1\n",
      "certifi                       2023.7.22\n",
      "cfgv                          3.4.0\n",
      "charset-normalizer            3.2.0\n",
      "click                         8.1.7\n",
      "colorama                      0.4.6\n",
      "comm                          0.1.4\n",
      "coverage                      7.4.4\n",
      "databricks-connect            12.2.13\n",
      "dbt                           1.0.0.34.9\n",
      "debugpy                       1.8.0\n",
      "decorator                     5.1.1\n",
      "distlib                       0.3.8\n",
      "distro                        1.9.0\n",
      "docutils                      0.20.1\n",
      "executing                     1.2.0\n",
      "filelock                      3.13.3\n",
      "gitdb                         4.0.11\n",
      "GitPython                     3.1.42\n",
      "google-api-core               2.11.1\n",
      "google-api-python-client      2.99.0\n",
      "google-auth                   2.23.0\n",
      "google-auth-httplib2          0.1.1\n",
      "googleapis-common-protos      1.60.0\n",
      "greenlet                      3.0.3\n",
      "grpcio                        1.58.0\n",
      "grpcio-status                 1.58.0\n",
      "h11                           0.14.0\n",
      "httpcore                      1.0.5\n",
      "httplib2                      0.22.0\n",
      "httpx                         0.27.0\n",
      "identify                      2.5.35\n",
      "idna                          3.4\n",
      "imagesize                     1.4.1\n",
      "iniconfig                     2.0.0\n",
      "ipykernel                     6.25.2\n",
      "ipython                       8.15.0\n",
      "jedi                          0.19.0\n",
      "Jinja2                        3.1.3\n",
      "jsonschema                    4.21.1\n",
      "jsonschema-specifications     2023.12.1\n",
      "jupyter_client                8.3.1\n",
      "jupyter_core                  5.3.1\n",
      "livereload                    2.6.3\n",
      "markdown-it-py                3.0.0\n",
      "MarkupSafe                    2.1.5\n",
      "matplotlib-inline             0.1.6\n",
      "mdurl                         0.1.2\n",
      "mypy-extensions               1.0.0\n",
      "nest-asyncio                  1.5.8\n",
      "nodeenv                       1.8.0\n",
      "numpy                         1.26.0\n",
      "openai                        1.14.3\n",
      "packaging                     23.1\n",
      "pandas                        2.1.0\n",
      "parso                         0.8.3\n",
      "pathspec                      0.12.1\n",
      "pickleshare                   0.7.5\n",
      "pillow                        10.2.0\n",
      "pip                           23.2.1\n",
      "platformdirs                  3.10.0\n",
      "pluggy                        1.4.0\n",
      "pre-commit                    3.7.0\n",
      "prompt-toolkit                3.0.39\n",
      "protobuf                      4.24.3\n",
      "psutil                        5.9.5\n",
      "pure-eval                     0.2.2\n",
      "py4j                          0.10.9.5\n",
      "pyarrow                       13.0.0\n",
      "pyasn1                        0.5.0\n",
      "pyasn1-modules                0.3.0\n",
      "pydantic                      2.6.4\n",
      "pydantic_core                 2.16.3\n",
      "pydeck                        0.8.1b0\n",
      "Pygments                      2.16.1\n",
      "pyparsing                     3.1.1\n",
      "pytest                        8.1.1\n",
      "python-dateutil               2.8.2\n",
      "python-dotenv                 1.0.1\n",
      "pytz                          2023.3.post1\n",
      "pywin32                       306\n",
      "PyYAML                        6.0.1\n",
      "pyzmq                         25.1.1\n",
      "referencing                   0.34.0\n",
      "requests                      2.31.0\n",
      "rich                          13.7.1\n",
      "rpds-py                       0.18.0\n",
      "rsa                           4.9\n",
      "setuptools                    65.5.0\n",
      "six                           1.16.0\n",
      "smmap                         5.0.1\n",
      "sniffio                       1.3.1\n",
      "snowballstemmer               2.2.0\n",
      "Sphinx                        7.2.6\n",
      "sphinx-autobuild              2024.2.4\n",
      "sphinxcontrib-applehelp       1.0.8\n",
      "sphinxcontrib-devhelp         1.0.6\n",
      "sphinxcontrib-htmlhelp        2.0.5\n",
      "sphinxcontrib-jsmath          1.0.1\n",
      "sphinxcontrib-qthelp          1.0.7\n",
      "sphinxcontrib-serializinghtml 1.1.10\n",
      "SQLAlchemy                    2.0.29\n",
      "stack-data                    0.6.2\n",
      "streamlit                     1.32.2\n",
      "tenacity                      8.2.3\n",
      "toml                          0.10.2\n",
      "toolz                         0.12.1\n",
      "tornado                       6.3.3\n",
      "tqdm                          4.66.2\n",
      "traitlets                     5.10.0\n",
      "typing_extensions             4.10.0\n",
      "tzdata                        2023.3\n",
      "uritemplate                   4.1.1\n",
      "urllib3                       1.26.16\n",
      "virtualenv                    20.25.1\n",
      "watchdog                      4.0.0\n",
      "wcwidth                       0.2.6\n"
     ]
    },
    {
     "name": "stderr",
     "output_type": "stream",
     "text": [
      "\n",
      "[notice] A new release of pip is available: 23.2.1 -> 24.0\n",
      "[notice] To update, run: python.exe -m pip install --upgrade pip\n"
     ]
    }
   ],
   "source": [
    "!pip install -r ../../requirements-dev.txt -r ../../requirements.txt # Install the requirement files from root directory\n",
    "!pip list"
   ]
  },
  {
   "cell_type": "code",
   "execution_count": 4,
   "metadata": {},
   "outputs": [],
   "source": [
    "from openai import OpenAI\n",
    "from dotenv import load_dotenv\n",
    "\n",
    "import os\n",
    "\n",
    "\n",
    "load_dotenv()  # take environment variables from .env.\n",
    "\n",
    "client = OpenAI(\n",
    "    api_key=os.environ.get(\"OPENAI_API_KEY\"),\n",
    ")\n",
    "\n",
    "chat_completion = client.chat.completions.create(\n",
    "    messages=[\n",
    "        {\n",
    "            \"role\": \"user\",\n",
    "            \"content\": \"Can you write a sql query for this questio? 'Which city has the highest population?'\",\n",
    "        }\n",
    "    ],\n",
    "    model=\"gpt-3.5-turbo\",\n",
    ")"
   ]
  },
  {
   "cell_type": "code",
   "execution_count": 5,
   "metadata": {},
   "outputs": [
    {
     "name": "stdout",
     "output_type": "stream",
     "text": [
      "Sure! Here is the SQL query to find the city with the highest population:\n",
      "\n",
      "```sql\n",
      "SELECT city\n",
      "FROM population\n",
      "ORDER BY population DESC\n",
      "LIMIT 1;\n",
      "```\n"
     ]
    }
   ],
   "source": [
    "chat_choices = chat_completion.choices\n",
    "\n",
    "print(chat_choices[0].message.content)"
   ]
  },
  {
   "cell_type": "code",
   "execution_count": 12,
   "metadata": {},
   "outputs": [
    {
     "name": "stdout",
     "output_type": "stream",
     "text": [
      "SELECT city\n",
      "FROM population\n",
      "ORDER BY population DESC\n",
      "LIMIT 1;\n",
      "\n"
     ]
    }
   ],
   "source": [
    "print(chat_choices[0].message.content.replace('`', '').split('sql\\n')[1])"
   ]
  },
  {
   "cell_type": "code",
   "execution_count": null,
   "metadata": {},
   "outputs": [],
   "source": []
  }
 ],
 "metadata": {
  "kernelspec": {
   "display_name": ".venv",
   "language": "python",
   "name": "python3"
  },
  "language_info": {
   "codemirror_mode": {
    "name": "ipython",
    "version": 3
   },
   "file_extension": ".py",
   "mimetype": "text/x-python",
   "name": "python",
   "nbconvert_exporter": "python",
   "pygments_lexer": "ipython3",
   "version": "3.11.4"
  }
 },
 "nbformat": 4,
 "nbformat_minor": 2
}
